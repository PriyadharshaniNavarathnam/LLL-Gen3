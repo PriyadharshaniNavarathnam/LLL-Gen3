{
 "cells": [
  {
   "cell_type": "code",
   "execution_count": 9,
   "id": "a43b3513",
   "metadata": {},
   "outputs": [
    {
     "name": "stdout",
     "output_type": "stream",
     "text": [
      "Requirement already satisfied: pandas in c:\\users\\ccs\\appdata\\local\\packages\\pythonsoftwarefoundation.python.3.11_qbz5n2kfra8p0\\localcache\\local-packages\\python311\\site-packages (2.2.3)Note: you may need to restart the kernel to use updated packages.\n",
      "\n",
      "Requirement already satisfied: numpy in c:\\users\\ccs\\appdata\\local\\packages\\pythonsoftwarefoundation.python.3.11_qbz5n2kfra8p0\\localcache\\local-packages\\python311\\site-packages (1.26.4)\n",
      "Requirement already satisfied: matplotlib in c:\\users\\ccs\\appdata\\local\\packages\\pythonsoftwarefoundation.python.3.11_qbz5n2kfra8p0\\localcache\\local-packages\\python311\\site-packages (3.10.0)\n",
      "Requirement already satisfied: seaborn in c:\\users\\ccs\\appdata\\local\\packages\\pythonsoftwarefoundation.python.3.11_qbz5n2kfra8p0\\localcache\\local-packages\\python311\\site-packages (0.13.2)\n",
      "Requirement already satisfied: scipy in c:\\users\\ccs\\appdata\\local\\packages\\pythonsoftwarefoundation.python.3.11_qbz5n2kfra8p0\\localcache\\local-packages\\python311\\site-packages (1.15.1)\n",
      "Requirement already satisfied: python-dateutil>=2.8.2 in c:\\users\\ccs\\appdata\\local\\packages\\pythonsoftwarefoundation.python.3.11_qbz5n2kfra8p0\\localcache\\local-packages\\python311\\site-packages (from pandas) (2.9.0.post0)\n",
      "Requirement already satisfied: pytz>=2020.1 in c:\\users\\ccs\\appdata\\local\\packages\\pythonsoftwarefoundation.python.3.11_qbz5n2kfra8p0\\localcache\\local-packages\\python311\\site-packages (from pandas) (2024.2)\n",
      "Requirement already satisfied: tzdata>=2022.7 in c:\\users\\ccs\\appdata\\local\\packages\\pythonsoftwarefoundation.python.3.11_qbz5n2kfra8p0\\localcache\\local-packages\\python311\\site-packages (from pandas) (2024.2)\n",
      "Requirement already satisfied: contourpy>=1.0.1 in c:\\users\\ccs\\appdata\\local\\packages\\pythonsoftwarefoundation.python.3.11_qbz5n2kfra8p0\\localcache\\local-packages\\python311\\site-packages (from matplotlib) (1.3.1)\n",
      "Requirement already satisfied: cycler>=0.10 in c:\\users\\ccs\\appdata\\local\\packages\\pythonsoftwarefoundation.python.3.11_qbz5n2kfra8p0\\localcache\\local-packages\\python311\\site-packages (from matplotlib) (0.12.1)\n",
      "Requirement already satisfied: fonttools>=4.22.0 in c:\\users\\ccs\\appdata\\local\\packages\\pythonsoftwarefoundation.python.3.11_qbz5n2kfra8p0\\localcache\\local-packages\\python311\\site-packages (from matplotlib) (4.55.3)\n",
      "Requirement already satisfied: kiwisolver>=1.3.1 in c:\\users\\ccs\\appdata\\local\\packages\\pythonsoftwarefoundation.python.3.11_qbz5n2kfra8p0\\localcache\\local-packages\\python311\\site-packages (from matplotlib) (1.4.8)\n",
      "Requirement already satisfied: packaging>=20.0 in c:\\users\\ccs\\appdata\\local\\packages\\pythonsoftwarefoundation.python.3.11_qbz5n2kfra8p0\\localcache\\local-packages\\python311\\site-packages (from matplotlib) (24.2)\n",
      "Requirement already satisfied: pillow>=8 in c:\\users\\ccs\\appdata\\local\\packages\\pythonsoftwarefoundation.python.3.11_qbz5n2kfra8p0\\localcache\\local-packages\\python311\\site-packages (from matplotlib) (11.1.0)\n",
      "Requirement already satisfied: pyparsing>=2.3.1 in c:\\users\\ccs\\appdata\\local\\packages\\pythonsoftwarefoundation.python.3.11_qbz5n2kfra8p0\\localcache\\local-packages\\python311\\site-packages (from matplotlib) (3.2.1)\n",
      "Requirement already satisfied: six>=1.5 in c:\\users\\ccs\\appdata\\local\\packages\\pythonsoftwarefoundation.python.3.11_qbz5n2kfra8p0\\localcache\\local-packages\\python311\\site-packages (from python-dateutil>=2.8.2->pandas) (1.17.0)\n"
     ]
    }
   ],
   "source": [
    "pip install pandas numpy matplotlib seaborn scipy\n"
   ]
  },
  {
   "cell_type": "code",
   "execution_count": 10,
   "id": "331953a6",
   "metadata": {},
   "outputs": [
    {
     "name": "stdout",
     "output_type": "stream",
     "text": [
      "Requirement already satisfied: scikit-learn in c:\\users\\ccs\\appdata\\local\\packages\\pythonsoftwarefoundation.python.3.11_qbz5n2kfra8p0\\localcache\\local-packages\\python311\\site-packages (1.6.1)\n",
      "Requirement already satisfied: wfdb in c:\\users\\ccs\\appdata\\local\\packages\\pythonsoftwarefoundation.python.3.11_qbz5n2kfra8p0\\localcache\\local-packages\\python311\\site-packages (4.3.0)\n",
      "Requirement already satisfied: neurokit2 in c:\\users\\ccs\\appdata\\local\\packages\\pythonsoftwarefoundation.python.3.11_qbz5n2kfra8p0\\localcache\\local-packages\\python311\\site-packages (0.2.11)\n",
      "Requirement already satisfied: numpy>=1.19.5 in c:\\users\\ccs\\appdata\\local\\packages\\pythonsoftwarefoundation.python.3.11_qbz5n2kfra8p0\\localcache\\local-packages\\python311\\site-packages (from scikit-learn) (1.26.4)\n",
      "Requirement already satisfied: scipy>=1.6.0 in c:\\users\\ccs\\appdata\\local\\packages\\pythonsoftwarefoundation.python.3.11_qbz5n2kfra8p0\\localcache\\local-packages\\python311\\site-packages (from scikit-learn) (1.15.1)\n",
      "Requirement already satisfied: joblib>=1.2.0 in c:\\users\\ccs\\appdata\\local\\packages\\pythonsoftwarefoundation.python.3.11_qbz5n2kfra8p0\\localcache\\local-packages\\python311\\site-packages (from scikit-learn) (1.4.2)\n",
      "Requirement already satisfied: threadpoolctl>=3.1.0 in c:\\users\\ccs\\appdata\\local\\packages\\pythonsoftwarefoundation.python.3.11_qbz5n2kfra8p0\\localcache\\local-packages\\python311\\site-packages (from scikit-learn) (3.5.0)\n",
      "Requirement already satisfied: aiohttp>=3.10.11 in c:\\users\\ccs\\appdata\\local\\packages\\pythonsoftwarefoundation.python.3.11_qbz5n2kfra8p0\\localcache\\local-packages\\python311\\site-packages (from wfdb) (3.10.11)\n",
      "Requirement already satisfied: fsspec>=2023.10.0 in c:\\users\\ccs\\appdata\\local\\packages\\pythonsoftwarefoundation.python.3.11_qbz5n2kfra8p0\\localcache\\local-packages\\python311\\site-packages (from wfdb) (2024.12.0)\n",
      "Requirement already satisfied: matplotlib>=3.2.2 in c:\\users\\ccs\\appdata\\local\\packages\\pythonsoftwarefoundation.python.3.11_qbz5n2kfra8p0\\localcache\\local-packages\\python311\\site-packages (from wfdb) (3.10.0)\n",
      "Requirement already satisfied: pandas>=2.2.3 in c:\\users\\ccs\\appdata\\local\\packages\\pythonsoftwarefoundation.python.3.11_qbz5n2kfra8p0\\localcache\\local-packages\\python311\\site-packages (from wfdb) (2.2.3)\n",
      "Requirement already satisfied: requests>=2.8.1 in c:\\users\\ccs\\appdata\\local\\packages\\pythonsoftwarefoundation.python.3.11_qbz5n2kfra8p0\\localcache\\local-packages\\python311\\site-packages (from wfdb) (2.32.3)\n",
      "Requirement already satisfied: soundfile>=0.10.0 in c:\\users\\ccs\\appdata\\local\\packages\\pythonsoftwarefoundation.python.3.11_qbz5n2kfra8p0\\localcache\\local-packages\\python311\\site-packages (from wfdb) (0.13.0)\n",
      "Requirement already satisfied: aiohappyeyeballs>=2.3.0 in c:\\users\\ccs\\appdata\\local\\packages\\pythonsoftwarefoundation.python.3.11_qbz5n2kfra8p0\\localcache\\local-packages\\python311\\site-packages (from aiohttp>=3.10.11->wfdb) (2.4.6)\n",
      "Requirement already satisfied: aiosignal>=1.1.2 in c:\\users\\ccs\\appdata\\local\\packages\\pythonsoftwarefoundation.python.3.11_qbz5n2kfra8p0\\localcache\\local-packages\\python311\\site-packages (from aiohttp>=3.10.11->wfdb) (1.3.2)\n",
      "Requirement already satisfied: attrs>=17.3.0 in c:\\users\\ccs\\appdata\\local\\packages\\pythonsoftwarefoundation.python.3.11_qbz5n2kfra8p0\\localcache\\local-packages\\python311\\site-packages (from aiohttp>=3.10.11->wfdb) (24.3.0)\n",
      "Requirement already satisfied: frozenlist>=1.1.1 in c:\\users\\ccs\\appdata\\local\\packages\\pythonsoftwarefoundation.python.3.11_qbz5n2kfra8p0\\localcache\\local-packages\\python311\\site-packages (from aiohttp>=3.10.11->wfdb) (1.5.0)\n",
      "Requirement already satisfied: multidict<7.0,>=4.5 in c:\\users\\ccs\\appdata\\local\\packages\\pythonsoftwarefoundation.python.3.11_qbz5n2kfra8p0\\localcache\\local-packages\\python311\\site-packages (from aiohttp>=3.10.11->wfdb) (6.1.0)\n",
      "Requirement already satisfied: yarl<2.0,>=1.12.0 in c:\\users\\ccs\\appdata\\local\\packages\\pythonsoftwarefoundation.python.3.11_qbz5n2kfra8p0\\localcache\\local-packages\\python311\\site-packages (from aiohttp>=3.10.11->wfdb) (1.18.3)\n",
      "Requirement already satisfied: idna>=2.0 in c:\\users\\ccs\\appdata\\local\\packages\\pythonsoftwarefoundation.python.3.11_qbz5n2kfra8p0\\localcache\\local-packages\\python311\\site-packages (from yarl<2.0,>=1.12.0->aiohttp>=3.10.11->wfdb) (3.10)\n",
      "Requirement already satisfied: propcache>=0.2.0 in c:\\users\\ccs\\appdata\\local\\packages\\pythonsoftwarefoundation.python.3.11_qbz5n2kfra8p0\\localcache\\local-packages\\python311\\site-packages (from yarl<2.0,>=1.12.0->aiohttp>=3.10.11->wfdb) (0.2.1)\n",
      "Requirement already satisfied: contourpy>=1.0.1 in c:\\users\\ccs\\appdata\\local\\packages\\pythonsoftwarefoundation.python.3.11_qbz5n2kfra8p0\\localcache\\local-packages\\python311\\site-packages (from matplotlib>=3.2.2->wfdb) (1.3.1)\n",
      "Requirement already satisfied: cycler>=0.10 in c:\\users\\ccs\\appdata\\local\\packages\\pythonsoftwarefoundation.python.3.11_qbz5n2kfra8p0\\localcache\\local-packages\\python311\\site-packages (from matplotlib>=3.2.2->wfdb) (0.12.1)\n",
      "Requirement already satisfied: fonttools>=4.22.0 in c:\\users\\ccs\\appdata\\local\\packages\\pythonsoftwarefoundation.python.3.11_qbz5n2kfra8p0\\localcache\\local-packages\\python311\\site-packages (from matplotlib>=3.2.2->wfdb) (4.55.3)\n",
      "Requirement already satisfied: kiwisolver>=1.3.1 in c:\\users\\ccs\\appdata\\local\\packages\\pythonsoftwarefoundation.python.3.11_qbz5n2kfra8p0\\localcache\\local-packages\\python311\\site-packages (from matplotlib>=3.2.2->wfdb) (1.4.8)\n",
      "Requirement already satisfied: packaging>=20.0 in c:\\users\\ccs\\appdata\\local\\packages\\pythonsoftwarefoundation.python.3.11_qbz5n2kfra8p0\\localcache\\local-packages\\python311\\site-packages (from matplotlib>=3.2.2->wfdb) (24.2)\n",
      "Requirement already satisfied: pillow>=8 in c:\\users\\ccs\\appdata\\local\\packages\\pythonsoftwarefoundation.python.3.11_qbz5n2kfra8p0\\localcache\\local-packages\\python311\\site-packages (from matplotlib>=3.2.2->wfdb) (11.1.0)\n",
      "Requirement already satisfied: pyparsing>=2.3.1 in c:\\users\\ccs\\appdata\\local\\packages\\pythonsoftwarefoundation.python.3.11_qbz5n2kfra8p0\\localcache\\local-packages\\python311\\site-packages (from matplotlib>=3.2.2->wfdb) (3.2.1)\n",
      "Requirement already satisfied: python-dateutil>=2.7 in c:\\users\\ccs\\appdata\\local\\packages\\pythonsoftwarefoundation.python.3.11_qbz5n2kfra8p0\\localcache\\local-packages\\python311\\site-packages (from matplotlib>=3.2.2->wfdb) (2.9.0.post0)\n",
      "Requirement already satisfied: pytz>=2020.1 in c:\\users\\ccs\\appdata\\local\\packages\\pythonsoftwarefoundation.python.3.11_qbz5n2kfra8p0\\localcache\\local-packages\\python311\\site-packages (from pandas>=2.2.3->wfdb) (2024.2)\n",
      "Requirement already satisfied: tzdata>=2022.7 in c:\\users\\ccs\\appdata\\local\\packages\\pythonsoftwarefoundation.python.3.11_qbz5n2kfra8p0\\localcache\\local-packages\\python311\\site-packages (from pandas>=2.2.3->wfdb) (2024.2)\n",
      "Requirement already satisfied: six>=1.5 in c:\\users\\ccs\\appdata\\local\\packages\\pythonsoftwarefoundation.python.3.11_qbz5n2kfra8p0\\localcache\\local-packages\\python311\\site-packages (from python-dateutil>=2.7->matplotlib>=3.2.2->wfdb) (1.17.0)\n",
      "Requirement already satisfied: charset-normalizer<4,>=2 in c:\\users\\ccs\\appdata\\local\\packages\\pythonsoftwarefoundation.python.3.11_qbz5n2kfra8p0\\localcache\\local-packages\\python311\\site-packages (from requests>=2.8.1->wfdb) (3.4.1)\n",
      "Requirement already satisfied: urllib3<3,>=1.21.1 in c:\\users\\ccs\\appdata\\local\\packages\\pythonsoftwarefoundation.python.3.11_qbz5n2kfra8p0\\localcache\\local-packages\\python311\\site-packages (from requests>=2.8.1->wfdb) (2.4.0)\n",
      "Requirement already satisfied: certifi>=2017.4.17 in c:\\users\\ccs\\appdata\\local\\packages\\pythonsoftwarefoundation.python.3.11_qbz5n2kfra8p0\\localcache\\local-packages\\python311\\site-packages (from requests>=2.8.1->wfdb) (2025.4.26)\n",
      "Requirement already satisfied: cffi>=1.0 in c:\\users\\ccs\\appdata\\local\\packages\\pythonsoftwarefoundation.python.3.11_qbz5n2kfra8p0\\localcache\\local-packages\\python311\\site-packages (from soundfile>=0.10.0->wfdb) (1.17.1)\n",
      "Requirement already satisfied: pycparser in c:\\users\\ccs\\appdata\\local\\packages\\pythonsoftwarefoundation.python.3.11_qbz5n2kfra8p0\\localcache\\local-packages\\python311\\site-packages (from cffi>=1.0->soundfile>=0.10.0->wfdb) (2.22)\n",
      "Note: you may need to restart the kernel to use updated packages.\n"
     ]
    }
   ],
   "source": [
    "pip install scikit-learn wfdb neurokit2\n"
   ]
  },
  {
   "cell_type": "code",
   "execution_count": null,
   "id": "875f0ec8",
   "metadata": {},
   "outputs": [],
   "source": []
  },
  {
   "cell_type": "code",
   "execution_count": null,
   "id": "7f7e4aac",
   "metadata": {},
   "outputs": [],
   "source": []
  },
  {
   "cell_type": "code",
   "execution_count": null,
   "id": "71602c22",
   "metadata": {},
   "outputs": [],
   "source": []
  },
  {
   "cell_type": "code",
   "execution_count": null,
   "id": "b9010285",
   "metadata": {},
   "outputs": [],
   "source": []
  },
  {
   "cell_type": "code",
   "execution_count": null,
   "id": "552a94c4",
   "metadata": {},
   "outputs": [],
   "source": []
  },
  {
   "cell_type": "code",
   "execution_count": null,
   "id": "c564de86",
   "metadata": {},
   "outputs": [],
   "source": []
  },
  {
   "cell_type": "code",
   "execution_count": null,
   "id": "4da066c9",
   "metadata": {},
   "outputs": [],
   "source": []
  },
  {
   "cell_type": "code",
   "execution_count": null,
   "id": "028cd8b4",
   "metadata": {},
   "outputs": [],
   "source": []
  },
  {
   "cell_type": "code",
   "execution_count": 4,
   "id": "9002b895",
   "metadata": {},
   "outputs": [
    {
     "name": "stdout",
     "output_type": "stream",
     "text": [
      "   Time [s]   HR   PULSE   RESP   SpO2\n",
      "0         0   94    93.0     25   97.0\n",
      "1         1   94    93.0     25   97.0\n",
      "2         2   94    93.0     25   97.0\n",
      "3         3   92    93.0     26   97.0\n",
      "4         4   93    93.0     26   97.0\n"
     ]
    }
   ],
   "source": [
    "import pandas as pd\n",
    "\n",
    "df = pd.read_csv(\"bidmc-ppg-and-respiration-dataset-1.0.0/bidmc_csv/bidmc_01_Numerics.csv\")\n",
    "print(df.head())"
   ]
  },
  {
   "cell_type": "code",
   "execution_count": 5,
   "id": "0a70cbcd",
   "metadata": {},
   "outputs": [
    {
     "name": "stdout",
     "output_type": "stream",
     "text": [
      "Current Vitals: {'Time [s]': 0.0, ' HR': 94.0, ' PULSE': 93.0, ' RESP': 25.0, ' SpO2': 97.0}\n",
      "Current Vitals: {'Time [s]': 1.0, ' HR': 94.0, ' PULSE': 93.0, ' RESP': 25.0, ' SpO2': 97.0}\n",
      "Current Vitals: {'Time [s]': 2.0, ' HR': 94.0, ' PULSE': 93.0, ' RESP': 25.0, ' SpO2': 97.0}\n",
      "Current Vitals: {'Time [s]': 3.0, ' HR': 92.0, ' PULSE': 93.0, ' RESP': 26.0, ' SpO2': 97.0}\n",
      "Current Vitals: {'Time [s]': 4.0, ' HR': 93.0, ' PULSE': 93.0, ' RESP': 26.0, ' SpO2': 97.0}\n",
      "Current Vitals: {'Time [s]': 5.0, ' HR': 93.0, ' PULSE': 93.0, ' RESP': 26.0, ' SpO2': 97.0}\n",
      "Current Vitals: {'Time [s]': 6.0, ' HR': 94.0, ' PULSE': 94.0, ' RESP': 26.0, ' SpO2': 97.0}\n",
      "Current Vitals: {'Time [s]': 7.0, ' HR': 94.0, ' PULSE': 94.0, ' RESP': 26.0, ' SpO2': 97.0}\n",
      "Current Vitals: {'Time [s]': 8.0, ' HR': 94.0, ' PULSE': 94.0, ' RESP': 26.0, ' SpO2': 97.0}\n",
      "Current Vitals: {'Time [s]': 9.0, ' HR': 94.0, ' PULSE': 94.0, ' RESP': 26.0, ' SpO2': 97.0}\n",
      "Current Vitals: {'Time [s]': 10.0, ' HR': 94.0, ' PULSE': 94.0, ' RESP': 26.0, ' SpO2': 97.0}\n",
      "Current Vitals: {'Time [s]': 11.0, ' HR': 94.0, ' PULSE': 94.0, ' RESP': 26.0, ' SpO2': 97.0}\n",
      "Current Vitals: {'Time [s]': 12.0, ' HR': 94.0, ' PULSE': 94.0, ' RESP': 26.0, ' SpO2': 97.0}\n",
      "Current Vitals: {'Time [s]': 13.0, ' HR': 94.0, ' PULSE': 94.0, ' RESP': 26.0, ' SpO2': 97.0}\n",
      "Current Vitals: {'Time [s]': 14.0, ' HR': 94.0, ' PULSE': 94.0, ' RESP': 26.0, ' SpO2': 97.0}\n",
      "Current Vitals: {'Time [s]': 15.0, ' HR': 95.0, ' PULSE': 94.0, ' RESP': 26.0, ' SpO2': 97.0}\n",
      "Current Vitals: {'Time [s]': 16.0, ' HR': 94.0, ' PULSE': 94.0, ' RESP': 26.0, ' SpO2': 97.0}\n",
      "Current Vitals: {'Time [s]': 17.0, ' HR': 94.0, ' PULSE': 94.0, ' RESP': 24.0, ' SpO2': 97.0}\n",
      "Current Vitals: {'Time [s]': 18.0, ' HR': 94.0, ' PULSE': 94.0, ' RESP': 24.0, ' SpO2': 97.0}\n",
      "Current Vitals: {'Time [s]': 19.0, ' HR': 94.0, ' PULSE': 94.0, ' RESP': 25.0, ' SpO2': 97.0}\n",
      "Current Vitals: {'Time [s]': 20.0, ' HR': 94.0, ' PULSE': 94.0, ' RESP': 25.0, ' SpO2': 97.0}\n",
      "Current Vitals: {'Time [s]': 21.0, ' HR': 94.0, ' PULSE': 94.0, ' RESP': 25.0, ' SpO2': 97.0}\n",
      "Current Vitals: {'Time [s]': 22.0, ' HR': 94.0, ' PULSE': 94.0, ' RESP': 25.0, ' SpO2': 97.0}\n",
      "Current Vitals: {'Time [s]': 23.0, ' HR': 94.0, ' PULSE': 94.0, ' RESP': 25.0, ' SpO2': 97.0}\n",
      "Current Vitals: {'Time [s]': 24.0, ' HR': 94.0, ' PULSE': 94.0, ' RESP': 25.0, ' SpO2': 97.0}\n",
      "Current Vitals: {'Time [s]': 25.0, ' HR': 94.0, ' PULSE': 94.0, ' RESP': 25.0, ' SpO2': 97.0}\n",
      "Current Vitals: {'Time [s]': 26.0, ' HR': 94.0, ' PULSE': 94.0, ' RESP': 24.0, ' SpO2': 98.0}\n",
      "Current Vitals: {'Time [s]': 27.0, ' HR': 94.0, ' PULSE': 94.0, ' RESP': 24.0, ' SpO2': 98.0}\n",
      "Current Vitals: {'Time [s]': 28.0, ' HR': 94.0, ' PULSE': 94.0, ' RESP': 24.0, ' SpO2': 98.0}\n",
      "Current Vitals: {'Time [s]': 29.0, ' HR': 94.0, ' PULSE': 94.0, ' RESP': 24.0, ' SpO2': 98.0}\n",
      "Current Vitals: {'Time [s]': 30.0, ' HR': 94.0, ' PULSE': 94.0, ' RESP': 24.0, ' SpO2': 98.0}\n",
      "Current Vitals: {'Time [s]': 31.0, ' HR': 94.0, ' PULSE': 94.0, ' RESP': 24.0, ' SpO2': 98.0}\n",
      "Current Vitals: {'Time [s]': 32.0, ' HR': 94.0, ' PULSE': 94.0, ' RESP': 24.0, ' SpO2': 98.0}\n",
      "Current Vitals: {'Time [s]': 33.0, ' HR': 93.0, ' PULSE': 94.0, ' RESP': 24.0, ' SpO2': 98.0}\n",
      "Current Vitals: {'Time [s]': 34.0, ' HR': 93.0, ' PULSE': 94.0, ' RESP': 24.0, ' SpO2': 98.0}\n",
      "Current Vitals: {'Time [s]': 35.0, ' HR': 93.0, ' PULSE': 94.0, ' RESP': 24.0, ' SpO2': 97.0}\n",
      "Current Vitals: {'Time [s]': 36.0, ' HR': 93.0, ' PULSE': 94.0, ' RESP': 24.0, ' SpO2': 97.0}\n",
      "Current Vitals: {'Time [s]': 37.0, ' HR': 93.0, ' PULSE': 94.0, ' RESP': 24.0, ' SpO2': 97.0}\n",
      "Current Vitals: {'Time [s]': 38.0, ' HR': 92.0, ' PULSE': 94.0, ' RESP': 24.0, ' SpO2': 97.0}\n",
      "Current Vitals: {'Time [s]': 39.0, ' HR': 92.0, ' PULSE': 94.0, ' RESP': 24.0, ' SpO2': 97.0}\n",
      "Current Vitals: {'Time [s]': 40.0, ' HR': 92.0, ' PULSE': 94.0, ' RESP': 24.0, ' SpO2': 97.0}\n",
      "Current Vitals: {'Time [s]': 41.0, ' HR': 92.0, ' PULSE': 93.0, ' RESP': 23.0, ' SpO2': 97.0}\n",
      "Current Vitals: {'Time [s]': 42.0, ' HR': 92.0, ' PULSE': 93.0, ' RESP': 23.0, ' SpO2': 97.0}\n",
      "Current Vitals: {'Time [s]': 43.0, ' HR': 92.0, ' PULSE': 93.0, ' RESP': 23.0, ' SpO2': 97.0}\n",
      "Current Vitals: {'Time [s]': 44.0, ' HR': 92.0, ' PULSE': 92.0, ' RESP': 23.0, ' SpO2': 97.0}\n",
      "Current Vitals: {'Time [s]': 45.0, ' HR': 95.0, ' PULSE': 92.0, ' RESP': 23.0, ' SpO2': 97.0}\n",
      "Current Vitals: {'Time [s]': 46.0, ' HR': 95.0, ' PULSE': 92.0, ' RESP': 23.0, ' SpO2': 97.0}\n",
      "Current Vitals: {'Time [s]': 47.0, ' HR': 92.0, ' PULSE': 92.0, ' RESP': 22.0, ' SpO2': 97.0}\n",
      "Current Vitals: {'Time [s]': 48.0, ' HR': 92.0, ' PULSE': 92.0, ' RESP': 22.0, ' SpO2': 97.0}\n",
      "Current Vitals: {'Time [s]': 49.0, ' HR': 92.0, ' PULSE': 92.0, ' RESP': 22.0, ' SpO2': 97.0}\n",
      "Current Vitals: {'Time [s]': 50.0, ' HR': 92.0, ' PULSE': 92.0, ' RESP': 22.0, ' SpO2': 97.0}\n",
      "Current Vitals: {'Time [s]': 51.0, ' HR': 92.0, ' PULSE': 92.0, ' RESP': 22.0, ' SpO2': 97.0}\n",
      "Current Vitals: {'Time [s]': 52.0, ' HR': 92.0, ' PULSE': 92.0, ' RESP': 22.0, ' SpO2': 97.0}\n",
      "Current Vitals: {'Time [s]': 53.0, ' HR': 91.0, ' PULSE': 92.0, ' RESP': 22.0, ' SpO2': 97.0}\n",
      "Current Vitals: {'Time [s]': 54.0, ' HR': 89.0, ' PULSE': 92.0, ' RESP': 22.0, ' SpO2': 97.0}\n",
      "Current Vitals: {'Time [s]': 55.0, ' HR': 91.0, ' PULSE': 92.0, ' RESP': 22.0, ' SpO2': 97.0}\n",
      "Current Vitals: {'Time [s]': 56.0, ' HR': 91.0, ' PULSE': 92.0, ' RESP': 22.0, ' SpO2': 97.0}\n",
      "Current Vitals: {'Time [s]': 57.0, ' HR': 91.0, ' PULSE': 92.0, ' RESP': 21.0, ' SpO2': 97.0}\n",
      "Current Vitals: {'Time [s]': 58.0, ' HR': 91.0, ' PULSE': 92.0, ' RESP': 21.0, ' SpO2': 97.0}\n",
      "Current Vitals: {'Time [s]': 59.0, ' HR': 91.0, ' PULSE': 92.0, ' RESP': 21.0, ' SpO2': 97.0}\n",
      "Current Vitals: {'Time [s]': 60.0, ' HR': 90.0, ' PULSE': 92.0, ' RESP': 21.0, ' SpO2': 97.0}\n",
      "Current Vitals: {'Time [s]': 61.0, ' HR': 90.0, ' PULSE': 91.0, ' RESP': 21.0, ' SpO2': 97.0}\n",
      "Current Vitals: {'Time [s]': 62.0, ' HR': 90.0, ' PULSE': 91.0, ' RESP': 21.0, ' SpO2': 97.0}\n",
      "Current Vitals: {'Time [s]': 63.0, ' HR': 90.0, ' PULSE': 91.0, ' RESP': 21.0, ' SpO2': 97.0}\n",
      "Current Vitals: {'Time [s]': 64.0, ' HR': 90.0, ' PULSE': 91.0, ' RESP': 21.0, ' SpO2': 97.0}\n",
      "Current Vitals: {'Time [s]': 65.0, ' HR': 90.0, ' PULSE': 91.0, ' RESP': 21.0, ' SpO2': 97.0}\n",
      "Current Vitals: {'Time [s]': 66.0, ' HR': 90.0, ' PULSE': 90.0, ' RESP': 21.0, ' SpO2': 97.0}\n",
      "Current Vitals: {'Time [s]': 67.0, ' HR': 91.0, ' PULSE': 90.0, ' RESP': 21.0, ' SpO2': 97.0}\n",
      "Current Vitals: {'Time [s]': 68.0, ' HR': 90.0, ' PULSE': 90.0, ' RESP': 20.0, ' SpO2': 97.0}\n",
      "Current Vitals: {'Time [s]': 69.0, ' HR': 90.0, ' PULSE': 89.0, ' RESP': 20.0, ' SpO2': 97.0}\n",
      "Current Vitals: {'Time [s]': 70.0, ' HR': 91.0, ' PULSE': 89.0, ' RESP': 20.0, ' SpO2': 97.0}\n",
      "Current Vitals: {'Time [s]': 71.0, ' HR': 91.0, ' PULSE': 89.0, ' RESP': 20.0, ' SpO2': 97.0}\n",
      "Current Vitals: {'Time [s]': 72.0, ' HR': 91.0, ' PULSE': 89.0, ' RESP': 20.0, ' SpO2': 97.0}\n",
      "Current Vitals: {'Time [s]': 73.0, ' HR': 91.0, ' PULSE': 89.0, ' RESP': 20.0, ' SpO2': 97.0}\n",
      "Current Vitals: {'Time [s]': 74.0, ' HR': 91.0, ' PULSE': 89.0, ' RESP': 21.0, ' SpO2': 97.0}\n",
      "Current Vitals: {'Time [s]': 75.0, ' HR': 91.0, ' PULSE': 89.0, ' RESP': 21.0, ' SpO2': 97.0}\n",
      "Current Vitals: {'Time [s]': 76.0, ' HR': 91.0, ' PULSE': 90.0, ' RESP': 21.0, ' SpO2': 97.0}\n",
      "Current Vitals: {'Time [s]': 77.0, ' HR': 91.0, ' PULSE': 90.0, ' RESP': 21.0, ' SpO2': 97.0}\n",
      "Current Vitals: {'Time [s]': 78.0, ' HR': 91.0, ' PULSE': 90.0, ' RESP': 21.0, ' SpO2': 97.0}\n",
      "Current Vitals: {'Time [s]': 79.0, ' HR': 91.0, ' PULSE': 90.0, ' RESP': 21.0, ' SpO2': 97.0}\n",
      "Current Vitals: {'Time [s]': 80.0, ' HR': 91.0, ' PULSE': 90.0, ' RESP': 21.0, ' SpO2': 97.0}\n",
      "Current Vitals: {'Time [s]': 81.0, ' HR': 91.0, ' PULSE': 90.0, ' RESP': 21.0, ' SpO2': 97.0}\n",
      "Current Vitals: {'Time [s]': 82.0, ' HR': 91.0, ' PULSE': 91.0, ' RESP': 21.0, ' SpO2': 97.0}\n",
      "Current Vitals: {'Time [s]': 83.0, ' HR': 91.0, ' PULSE': 91.0, ' RESP': 21.0, ' SpO2': 97.0}\n",
      "Current Vitals: {'Time [s]': 84.0, ' HR': 91.0, ' PULSE': 91.0, ' RESP': 21.0, ' SpO2': 97.0}\n",
      "Current Vitals: {'Time [s]': 85.0, ' HR': 91.0, ' PULSE': 91.0, ' RESP': 21.0, ' SpO2': 97.0}\n",
      "Current Vitals: {'Time [s]': 86.0, ' HR': 91.0, ' PULSE': 91.0, ' RESP': 21.0, ' SpO2': 97.0}\n",
      "Current Vitals: {'Time [s]': 87.0, ' HR': 91.0, ' PULSE': 91.0, ' RESP': 22.0, ' SpO2': 97.0}\n",
      "Current Vitals: {'Time [s]': 88.0, ' HR': 91.0, ' PULSE': 91.0, ' RESP': 22.0, ' SpO2': 97.0}\n",
      "Current Vitals: {'Time [s]': 89.0, ' HR': 91.0, ' PULSE': 91.0, ' RESP': 22.0, ' SpO2': 97.0}\n",
      "Current Vitals: {'Time [s]': 90.0, ' HR': 91.0, ' PULSE': 91.0, ' RESP': 22.0, ' SpO2': 97.0}\n",
      "Current Vitals: {'Time [s]': 91.0, ' HR': 92.0, ' PULSE': 91.0, ' RESP': 22.0, ' SpO2': 97.0}\n",
      "Current Vitals: {'Time [s]': 92.0, ' HR': 92.0, ' PULSE': 91.0, ' RESP': 22.0, ' SpO2': 97.0}\n",
      "Current Vitals: {'Time [s]': 93.0, ' HR': 92.0, ' PULSE': 91.0, ' RESP': 22.0, ' SpO2': 97.0}\n",
      "Current Vitals: {'Time [s]': 94.0, ' HR': 92.0, ' PULSE': 91.0, ' RESP': 22.0, ' SpO2': 97.0}\n",
      "Current Vitals: {'Time [s]': 95.0, ' HR': 92.0, ' PULSE': 91.0, ' RESP': 23.0, ' SpO2': 97.0}\n",
      "Current Vitals: {'Time [s]': 96.0, ' HR': 93.0, ' PULSE': 91.0, ' RESP': 23.0, ' SpO2': 97.0}\n",
      "Current Vitals: {'Time [s]': 97.0, ' HR': 93.0, ' PULSE': 91.0, ' RESP': 23.0, ' SpO2': 97.0}\n",
      "Current Vitals: {'Time [s]': 98.0, ' HR': 93.0, ' PULSE': 91.0, ' RESP': 23.0, ' SpO2': 97.0}\n",
      "Current Vitals: {'Time [s]': 99.0, ' HR': 93.0, ' PULSE': 91.0, ' RESP': 23.0, ' SpO2': 97.0}\n",
      "Current Vitals: {'Time [s]': 100.0, ' HR': 93.0, ' PULSE': 91.0, ' RESP': 23.0, ' SpO2': 97.0}\n",
      "Current Vitals: {'Time [s]': 101.0, ' HR': 93.0, ' PULSE': 91.0, ' RESP': 23.0, ' SpO2': 97.0}\n",
      "Current Vitals: {'Time [s]': 102.0, ' HR': 93.0, ' PULSE': 91.0, ' RESP': 23.0, ' SpO2': 97.0}\n",
      "Current Vitals: {'Time [s]': 103.0, ' HR': 93.0, ' PULSE': 91.0, ' RESP': 23.0, ' SpO2': 97.0}\n",
      "Current Vitals: {'Time [s]': 104.0, ' HR': 90.0, ' PULSE': 91.0, ' RESP': 23.0, ' SpO2': 97.0}\n",
      "Current Vitals: {'Time [s]': 105.0, ' HR': 92.0, ' PULSE': 91.0, ' RESP': 23.0, ' SpO2': 97.0}\n",
      "Current Vitals: {'Time [s]': 106.0, ' HR': 92.0, ' PULSE': 91.0, ' RESP': 23.0, ' SpO2': 97.0}\n",
      "Current Vitals: {'Time [s]': 107.0, ' HR': 92.0, ' PULSE': 91.0, ' RESP': 23.0, ' SpO2': 97.0}\n",
      "Current Vitals: {'Time [s]': 108.0, ' HR': 92.0, ' PULSE': 91.0, ' RESP': 23.0, ' SpO2': 97.0}\n",
      "Current Vitals: {'Time [s]': 109.0, ' HR': 92.0, ' PULSE': 91.0, ' RESP': 23.0, ' SpO2': 97.0}\n",
      "Current Vitals: {'Time [s]': 110.0, ' HR': 92.0, ' PULSE': 90.0, ' RESP': 23.0, ' SpO2': 97.0}\n",
      "Current Vitals: {'Time [s]': 111.0, ' HR': 92.0, ' PULSE': nan, ' RESP': 23.0, ' SpO2': nan}\n",
      "Current Vitals: {'Time [s]': 112.0, ' HR': 92.0, ' PULSE': nan, ' RESP': 23.0, ' SpO2': nan}\n",
      "Current Vitals: {'Time [s]': 113.0, ' HR': 92.0, ' PULSE': nan, ' RESP': 23.0, ' SpO2': nan}\n",
      "Current Vitals: {'Time [s]': 114.0, ' HR': 92.0, ' PULSE': nan, ' RESP': 22.0, ' SpO2': nan}\n",
      "Current Vitals: {'Time [s]': 115.0, ' HR': 92.0, ' PULSE': nan, ' RESP': 22.0, ' SpO2': nan}\n",
      "Current Vitals: {'Time [s]': 116.0, ' HR': 92.0, ' PULSE': nan, ' RESP': 22.0, ' SpO2': nan}\n",
      "Current Vitals: {'Time [s]': 117.0, ' HR': 92.0, ' PULSE': nan, ' RESP': 22.0, ' SpO2': nan}\n",
      "Current Vitals: {'Time [s]': 118.0, ' HR': 92.0, ' PULSE': nan, ' RESP': 22.0, ' SpO2': nan}\n",
      "Current Vitals: {'Time [s]': 119.0, ' HR': 92.0, ' PULSE': nan, ' RESP': 22.0, ' SpO2': nan}\n",
      "Current Vitals: {'Time [s]': 120.0, ' HR': 92.0, ' PULSE': nan, ' RESP': 22.0, ' SpO2': nan}\n",
      "Current Vitals: {'Time [s]': 121.0, ' HR': 92.0, ' PULSE': nan, ' RESP': 22.0, ' SpO2': nan}\n",
      "Current Vitals: {'Time [s]': 122.0, ' HR': 92.0, ' PULSE': nan, ' RESP': 22.0, ' SpO2': nan}\n",
      "Current Vitals: {'Time [s]': 123.0, ' HR': 92.0, ' PULSE': nan, ' RESP': 22.0, ' SpO2': nan}\n",
      "Current Vitals: {'Time [s]': 124.0, ' HR': 92.0, ' PULSE': 92.0, ' RESP': 22.0, ' SpO2': 98.0}\n",
      "Current Vitals: {'Time [s]': 125.0, ' HR': 92.0, ' PULSE': 92.0, ' RESP': 21.0, ' SpO2': 98.0}\n",
      "Current Vitals: {'Time [s]': 126.0, ' HR': 92.0, ' PULSE': 91.0, ' RESP': 21.0, ' SpO2': 98.0}\n",
      "Current Vitals: {'Time [s]': 127.0, ' HR': 91.0, ' PULSE': 91.0, ' RESP': 21.0, ' SpO2': 97.0}\n",
      "Current Vitals: {'Time [s]': 128.0, ' HR': 91.0, ' PULSE': 91.0, ' RESP': 21.0, ' SpO2': 97.0}\n",
      "Current Vitals: {'Time [s]': 129.0, ' HR': 91.0, ' PULSE': 91.0, ' RESP': 21.0, ' SpO2': 97.0}\n",
      "Current Vitals: {'Time [s]': 130.0, ' HR': 91.0, ' PULSE': 92.0, ' RESP': 21.0, ' SpO2': 97.0}\n",
      "Current Vitals: {'Time [s]': 131.0, ' HR': 91.0, ' PULSE': 92.0, ' RESP': 21.0, ' SpO2': 97.0}\n",
      "Current Vitals: {'Time [s]': 132.0, ' HR': 91.0, ' PULSE': 91.0, ' RESP': 21.0, ' SpO2': 97.0}\n",
      "Current Vitals: {'Time [s]': 133.0, ' HR': 91.0, ' PULSE': 91.0, ' RESP': 21.0, ' SpO2': 97.0}\n",
      "Current Vitals: {'Time [s]': 134.0, ' HR': 91.0, ' PULSE': 91.0, ' RESP': 21.0, ' SpO2': 97.0}\n",
      "Current Vitals: {'Time [s]': 135.0, ' HR': 91.0, ' PULSE': 91.0, ' RESP': 21.0, ' SpO2': 97.0}\n",
      "Current Vitals: {'Time [s]': 136.0, ' HR': 91.0, ' PULSE': 91.0, ' RESP': 21.0, ' SpO2': 97.0}\n",
      "Current Vitals: {'Time [s]': 137.0, ' HR': 91.0, ' PULSE': 91.0, ' RESP': 21.0, ' SpO2': 97.0}\n",
      "Current Vitals: {'Time [s]': 138.0, ' HR': 91.0, ' PULSE': 91.0, ' RESP': 21.0, ' SpO2': 97.0}\n",
      "Current Vitals: {'Time [s]': 139.0, ' HR': 91.0, ' PULSE': 90.0, ' RESP': 21.0, ' SpO2': 97.0}\n",
      "Current Vitals: {'Time [s]': 140.0, ' HR': 91.0, ' PULSE': 90.0, ' RESP': 21.0, ' SpO2': 97.0}\n",
      "Current Vitals: {'Time [s]': 141.0, ' HR': 91.0, ' PULSE': 90.0, ' RESP': 20.0, ' SpO2': 97.0}\n",
      "Current Vitals: {'Time [s]': 142.0, ' HR': 91.0, ' PULSE': 90.0, ' RESP': 20.0, ' SpO2': 97.0}\n"
     ]
    },
    {
     "ename": "KeyboardInterrupt",
     "evalue": "",
     "output_type": "error",
     "traceback": [
      "\u001b[1;31m---------------------------------------------------------------------------\u001b[0m",
      "\u001b[1;31mKeyboardInterrupt\u001b[0m                         Traceback (most recent call last)",
      "Cell \u001b[1;32mIn[5], line 5\u001b[0m\n\u001b[0;32m      3\u001b[0m \u001b[38;5;28;01mfor\u001b[39;00m index, row \u001b[38;5;129;01min\u001b[39;00m df\u001b[38;5;241m.\u001b[39miterrows():\n\u001b[0;32m      4\u001b[0m     \u001b[38;5;28mprint\u001b[39m(\u001b[38;5;124m\"\u001b[39m\u001b[38;5;124mCurrent Vitals:\u001b[39m\u001b[38;5;124m\"\u001b[39m, row\u001b[38;5;241m.\u001b[39mto_dict())\n\u001b[1;32m----> 5\u001b[0m     time\u001b[38;5;241m.\u001b[39msleep(\u001b[38;5;241m1\u001b[39m)  \u001b[38;5;66;03m# simulate 1-second interval\u001b[39;00m\n",
      "\u001b[1;31mKeyboardInterrupt\u001b[0m: "
     ]
    }
   ],
   "source": [
    "import time\n",
    "\n",
    "for index, row in df.iterrows():\n",
    "    print(\"Current Vitals:\", row.to_dict())\n",
    "    time.sleep(1)  # simulate 1-second interval"
   ]
  },
  {
   "cell_type": "code",
   "execution_count": 6,
   "id": "f469394d",
   "metadata": {},
   "outputs": [],
   "source": [
    "def detect_anomalies(vitals):\n",
    "    alerts = []\n",
    "    if vitals[\"hr\"] > 100:\n",
    "        alerts.append(\"Tachycardia\")\n",
    "    if vitals[\"rr\"] > 25:\n",
    "        alerts.append(\"Tachypnea\")\n",
    "    if vitals[\"spo2\"] < 95:\n",
    "        alerts.append(\"Low Oxygen Saturation\")\n",
    "    return alerts"
   ]
  },
  {
   "cell_type": "code",
   "execution_count": 8,
   "id": "a0fe277a",
   "metadata": {},
   "outputs": [
    {
     "ename": "KeyError",
     "evalue": "'hr'",
     "output_type": "error",
     "traceback": [
      "\u001b[1;31m---------------------------------------------------------------------------\u001b[0m",
      "\u001b[1;31mKeyError\u001b[0m                                  Traceback (most recent call last)",
      "Cell \u001b[1;32mIn[8], line 2\u001b[0m\n\u001b[0;32m      1\u001b[0m vitals \u001b[38;5;241m=\u001b[39m row\u001b[38;5;241m.\u001b[39mto_dict()\n\u001b[1;32m----> 2\u001b[0m alerts \u001b[38;5;241m=\u001b[39m \u001b[43mdetect_anomalies\u001b[49m\u001b[43m(\u001b[49m\u001b[43mvitals\u001b[49m\u001b[43m)\u001b[49m\n\u001b[0;32m      3\u001b[0m \u001b[38;5;28;01mif\u001b[39;00m alerts:\n\u001b[0;32m      4\u001b[0m     \u001b[38;5;28mprint\u001b[39m(\u001b[38;5;124m\"\u001b[39m\u001b[38;5;124m🚨 ALERTS:\u001b[39m\u001b[38;5;124m\"\u001b[39m, alerts)\n",
      "Cell \u001b[1;32mIn[6], line 3\u001b[0m, in \u001b[0;36mdetect_anomalies\u001b[1;34m(vitals)\u001b[0m\n\u001b[0;32m      1\u001b[0m \u001b[38;5;28;01mdef\u001b[39;00m\u001b[38;5;250m \u001b[39m\u001b[38;5;21mdetect_anomalies\u001b[39m(vitals):\n\u001b[0;32m      2\u001b[0m     alerts \u001b[38;5;241m=\u001b[39m []\n\u001b[1;32m----> 3\u001b[0m     \u001b[38;5;28;01mif\u001b[39;00m \u001b[43mvitals\u001b[49m\u001b[43m[\u001b[49m\u001b[38;5;124;43m\"\u001b[39;49m\u001b[38;5;124;43mhr\u001b[39;49m\u001b[38;5;124;43m\"\u001b[39;49m\u001b[43m]\u001b[49m \u001b[38;5;241m>\u001b[39m \u001b[38;5;241m100\u001b[39m:\n\u001b[0;32m      4\u001b[0m         alerts\u001b[38;5;241m.\u001b[39mappend(\u001b[38;5;124m\"\u001b[39m\u001b[38;5;124mTachycardia\u001b[39m\u001b[38;5;124m\"\u001b[39m)\n\u001b[0;32m      5\u001b[0m     \u001b[38;5;28;01mif\u001b[39;00m vitals[\u001b[38;5;124m\"\u001b[39m\u001b[38;5;124mrr\u001b[39m\u001b[38;5;124m\"\u001b[39m] \u001b[38;5;241m>\u001b[39m \u001b[38;5;241m25\u001b[39m:\n",
      "\u001b[1;31mKeyError\u001b[0m: 'hr'"
     ]
    }
   ],
   "source": [
    "vitals = row.to_dict()\n",
    "alerts = detect_anomalies(vitals)\n",
    "if alerts:\n",
    "    print(\"🚨 ALERTS:\", alerts)"
   ]
  },
  {
   "cell_type": "code",
   "execution_count": null,
   "id": "f15feeb4",
   "metadata": {},
   "outputs": [],
   "source": []
  }
 ],
 "metadata": {
  "kernelspec": {
   "display_name": "Python 3",
   "language": "python",
   "name": "python3"
  },
  "language_info": {
   "codemirror_mode": {
    "name": "ipython",
    "version": 3
   },
   "file_extension": ".py",
   "mimetype": "text/x-python",
   "name": "python",
   "nbconvert_exporter": "python",
   "pygments_lexer": "ipython3",
   "version": "3.11.9"
  }
 },
 "nbformat": 4,
 "nbformat_minor": 5
}
